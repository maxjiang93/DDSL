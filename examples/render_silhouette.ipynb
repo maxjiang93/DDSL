{
 "cells": [
  {
   "cell_type": "markdown",
   "metadata": {},
   "source": [
    "# Example for projective rendering given render matrix"
   ]
  },
  {
   "cell_type": "code",
   "execution_count": 1,
   "metadata": {},
   "outputs": [],
   "source": [
    "import sys\n",
    "sys.path.append(\"../ddsl\")\n",
    "from ddsl import DDSL_phys\n",
    "from utils import normalize_V, readOBJ\n",
    "import os\n",
    "import numpy as np\n",
    "import torch\n",
    "from scipy.io import savemat\n",
    "import trimesh\n",
    "import matplotlib.pyplot as plt\n",
    "%matplotlib inline"
   ]
  },
  {
   "cell_type": "markdown",
   "metadata": {},
   "source": [
    "## Helper Functions"
   ]
  },
  {
   "cell_type": "code",
   "execution_count": 2,
   "metadata": {},
   "outputs": [],
   "source": [
    "def project_mesh(input_trimesh, transform=None):\n",
    "    \"\"\"Project the mesh using the transformation matrix and ouput the V, E, D matrices for DDSL.\n",
    "    \n",
    "    Args:\n",
    "      input_trimesh: \n",
    "    \"\"\"\n",
    "    if transform is not None:\n",
    "        if not isinstance(transform, np.ndarray) and transform.shape == (4, 4):\n",
    "            raise ValueError(\"transform must be None or an ndarray of shape (4, 4).\")\n",
    "        input_trimesh = input_trimesh.apply_transform(transform)  # Now z is the z-buffer.\n",
    "    v_proj = input_trimesh.vertices[:, :-1]\n",
    "    e_proj = input_trimesh.faces\n",
    "    d_proj = np.ones([e_proj.shape[0], 1])\n",
    "    return v_proj, e_proj, d_proj\n",
    "    \n",
    "\n",
    "def look_at(eye, center, world_up):\n",
    "    \"\"\"Computes camera viewing matrices (numpy implementation).\n",
    "\n",
    "    Functionality mimes gluLookAt in Open GL.\n",
    "\n",
    "    Args:\n",
    "      eye: np.float32 array with shape [batch_size, 3] containing the XYZ world\n",
    "        space position of the camera.\n",
    "      center: np.float32 array with shape [batch_size, 3] containing a position\n",
    "        along the center of the camera's gaze.\n",
    "      world_up: np.float32 array with shape [batch_size, 3] specifying the\n",
    "        world's up direction; the output camera will have no tilt with respect to\n",
    "        this direction.\n",
    "    Returns:\n",
    "      A [batch_size, 4, 4] np.float32 array containing a right-handed camera\n",
    "      extrinsics matrix that maps points from world space to points in eye space.\n",
    "    \"\"\"\n",
    "    batch_size = center.shape[0]\n",
    "    vector_degeneracy_cutoff = 1e-6\n",
    "    forward = center - eye\n",
    "    forward_norm = np.linalg.norm(forward, axis=1, keepdims=True)\n",
    "    assert np.all(forward_norm > vector_degeneracy_cutoff)\n",
    "    forward /= forward_norm\n",
    "\n",
    "    to_side = np.cross(forward, world_up)\n",
    "    to_side_norm = np.linalg.norm(to_side, axis=1, keepdims=True)\n",
    "    assert np.all(to_side_norm > vector_degeneracy_cutoff)\n",
    "    to_side /= to_side_norm\n",
    "    cam_up = np.cross(to_side, forward)\n",
    "\n",
    "    w_column = np.array(\n",
    "        batch_size * [[0.0, 0.0, 0.0, 1.0]], dtype=np.float32\n",
    "    )  # [batch_size, 4]\n",
    "    w_column = w_column.reshape([batch_size, 4, 1])\n",
    "    view_rotation = np.stack(\n",
    "        [to_side, cam_up, -forward, np.zeros_like(to_side, dtype=np.float32)],\n",
    "        axis=1,\n",
    "    )  # [batch_size, 4, 3] matrix\n",
    "    view_rotation = np.concatenate(\n",
    "        [view_rotation, w_column], axis=2\n",
    "    )  # [batch_size, 4, 4]\n",
    "\n",
    "    identity_batch = np.tile(np.expand_dims(np.eye(3), 0), [batch_size, 1, 1])\n",
    "    view_translation = np.concatenate(\n",
    "        [identity_batch, np.expand_dims(-eye, 2)], 2\n",
    "    )\n",
    "    view_translation = np.concatenate(\n",
    "        [view_translation, w_column.reshape([batch_size, 1, 4])], 1\n",
    "    )\n",
    "    camera_matrices = np.matmul(view_rotation, view_translation)\n",
    "    return camera_matrices\n",
    "\n",
    "def sigmoid_squash(inputs, alpha=2.5):\n",
    "    \"\"\"Use sigmoid to squash values to (0, 1).\n",
    "    \n",
    "    args:\n",
    "      inputs: tensor to be squashed to (0, 1).\n",
    "      alpha: scaling factor to adjust saturation. Larger alphas lead to more\n",
    "        biased output values (closer to 0 and 1).\n",
    "    \"\"\"\n",
    "    return torch.sigmoid(alpha * (inputs-1))"
   ]
  },
  {
   "cell_type": "markdown",
   "metadata": {},
   "source": [
    "## Settings"
   ]
  },
  {
   "cell_type": "code",
   "execution_count": 3,
   "metadata": {},
   "outputs": [],
   "source": [
    "# General settings.\n",
    "device = \"cpu\"  # Backend. Alternatively can use \"cuda\" for GPU.\n",
    "res = (128, 128)  # Render resolution.\n",
    "mesh_file = \"mesh/cow.obj\"  # Name of mesh file to render.\n",
    "\n",
    "# Render settings.\n",
    "eye = (1., 1., 1.)  # Location of the camera eye.\n",
    "center = (0., 0., 0.)  # Position along the center of the camera's gaze.\n",
    "world_up = (0., 1., 0.)  # The up direction for world."
   ]
  },
  {
   "cell_type": "markdown",
   "metadata": {},
   "source": [
    "## Load and Render"
   ]
  },
  {
   "cell_type": "code",
   "execution_count": 4,
   "metadata": {},
   "outputs": [
    {
     "name": "stderr",
     "output_type": "stream",
     "text": [
      "../ddsl/ddsl.py:311: UserWarning: The function torch.irfft is deprecated and will be removed in a future PyTorch release. Use the new torch.fft module functions, instead, by importing torch.fft and calling torch.fft.ifft or torch.fft.irfft. (Triggered internally at  /pytorch/aten/src/ATen/native/SpectralOps.cpp:602.)\n",
      "  f = torch.irfft(F, dim, signal_sizes=self.res)\n"
     ]
    }
   ],
   "source": [
    "# # Load mesh.\n",
    "mesh = trimesh.load(mesh_file)\n",
    "\n",
    "# Unsqeeze a \"batch\" dimension for eye, center, world_up\n",
    "eye = np.array(eye)[None]\n",
    "center = np.array(center)[None]\n",
    "world_up = np.array(world_up)[None]\n",
    "transform = look_at(eye, center, world_up)[0]\n",
    "\n",
    "# Render silhouette.\n",
    "v_proj, e_proj, d_proj = project_mesh(mesh, transform)\n",
    "ddsl = DDSL_phys(res=res, t=[1]*2, j=2, elem_batch=100) # create ddsl object with given resolution and box size\n",
    "V, E, D = torch.from_numpy(v_proj).to(device), torch.from_numpy(e_proj).to(device), torch.from_numpy(d_proj).to(device)\n",
    "V = normalize_V(V) # normalize vertex to [0,1]\n",
    "V += 1e-4 * torch.rand_like(V) # add noise to prevent coordinate singularity\n",
    "# tic = time.time()\n",
    "silhouette = ddsl(V, E, D) # forward process\n",
    "silhouette = sigmoid_squash(silhouette)\n",
    "silhouette = silhouette.squeeze().detach().cpu().numpy() # move from GPU to CPU.\n",
    "# toc = time.time()\n",
    "# print(f\"DDSL time lapse: {toc-tic:.4f} secs.\")"
   ]
  },
  {
   "cell_type": "code",
   "execution_count": 5,
   "metadata": {},
   "outputs": [
    {
     "data": {
      "image/png": "[encoded data removed]",
      "text/plain": [
       "<Figure size 432x288 with 2 Axes>"
      ]
     },
     "metadata": {
      "needs_background": "light"
     },
     "output_type": "display_data"
    }
   ],
   "source": [
    "plt.imshow(silhouette.T, origin='lower')\n",
    "plt.colorbar()\n",
    "plt.show()"
   ]
  },
  {
   "cell_type": "code",
   "execution_count": null,
   "metadata": {},
   "outputs": [],
   "source": []
  }
 ],
 "metadata": {
  "kernelspec": {
   "display_name": "Python 3",
   "language": "python",
   "name": "python3"
  },
  "language_info": {
   "codemirror_mode": {
    "name": "ipython",
    "version": 3
   },
   "file_extension": ".py",
   "mimetype": "text/x-python",
   "name": "python",
   "nbconvert_exporter": "python",
   "pygments_lexer": "ipython3",
   "version": "3.8.5"
  }
 },
 "nbformat": 4,
 "nbformat_minor": 4
}
