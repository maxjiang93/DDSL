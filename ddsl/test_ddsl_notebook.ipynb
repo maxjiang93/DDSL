{
 "cells": [
  {
   "cell_type": "code",
   "execution_count": 1,
   "metadata": {},
   "outputs": [
    {
     "name": "stdout",
     "output_type": "stream",
     "text": [
      "Current Device: GPU 0\n",
      "Pytorch Version: 1.0.0\n"
     ]
    }
   ],
   "source": [
    "import torch\n",
    "from test_utils import test_ddsl\n",
    "\n",
    "torch.cuda.set_device(0)\n",
    "print(\"Current Device: GPU {}\".format(torch.cuda.current_device()))\n",
    "print(\"Pytorch Version: {}\".format(torch.__version__))"
   ]
  },
  {
   "cell_type": "markdown",
   "metadata": {},
   "source": [
    "## Test"
   ]
  },
  {
   "cell_type": "code",
   "execution_count": 2,
   "metadata": {},
   "outputs": [
    {
     "name": "stdout",
     "output_type": "stream",
     "text": [
      "Passed Test for j = 0, dim = 2.\n",
      "Passed Test for j = 0, dim = 3.\n",
      "Passed Test for j = 1, dim = 2.\n",
      "Passed Test for j = 1, dim = 3.\n",
      "Passed Test for j = 2, dim = 2.\n",
      "Passed Test for j = 2, dim = 3.\n",
      "Passed Test for j = 3, dim = 2.\n",
      "Passed Test for j = 3, dim = 3.\n"
     ]
    }
   ],
   "source": [
    "for j in range(4):\n",
    "    for dim in [2, 3]:      \n",
    "        pass_test = test_ddsl(j=0, dim=2, npoints=10, res=32, print_stats=False)\n",
    "        if pass_test:\n",
    "            print(\"Passed Test for j = {}, dim = {}.\".format(j, dim))\n",
    "        else:\n",
    "            print(\"[!] Failed Test for j = {}, dim = {}.\".format(j, dim))"
   ]
  }
 ],
 "metadata": {
  "kernelspec": {
   "display_name": "Python 3",
   "language": "python",
   "name": "python3"
  },
  "language_info": {
   "codemirror_mode": {
    "name": "ipython",
    "version": 3
   },
   "file_extension": ".py",
   "mimetype": "text/x-python",
   "name": "python",
   "nbconvert_exporter": "python",
   "pygments_lexer": "ipython3",
   "version": "3.6.7"
  }
 },
 "nbformat": 4,
 "nbformat_minor": 2
}
